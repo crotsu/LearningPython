{
 "metadata": {
  "name": "",
  "signature": "sha256:8f88eb97ce954c971f4c33783cf47f6535bf3125340ee3fd4802fb4adb09b70d"
 },
 "nbformat": 3,
 "nbformat_minor": 0,
 "worksheets": [
  {
   "cells": [
    {
     "cell_type": "markdown",
     "metadata": {},
     "source": [
      "# \u95a2\u6570\u306e\u5165\u51fa\u529b"
     ]
    },
    {
     "cell_type": "markdown",
     "metadata": {},
     "source": [
      "## \u95a2\u6570\u306b\u30b9\u30ab\u30e9\u30fc\uff0c\u30d9\u30af\u30c8\u30eb\uff0c\u884c\u5217\u306e\u4f55\u3092\u5165\u529b\u3057\u3066\uff0c\u4f55\u3092\u53d7\u3051\u53d6\u308b\u306e\u304b\u610f\u8b58\u3059\u308b\uff0e"
     ]
    },
    {
     "cell_type": "code",
     "collapsed": false,
     "input": [
      "import numpy as np\n",
      "\n",
      "def func(a, x):\n",
      "    y = a*x\n",
      "    return y"
     ],
     "language": "python",
     "metadata": {},
     "outputs": [],
     "prompt_number": 3
    },
    {
     "cell_type": "markdown",
     "metadata": {},
     "source": [
      "### \u30b9\u30ab\u30e9\u30fc\u3092\u5165\u529b\u3057\u3066\uff0c\u30b9\u30ab\u30e9\u30fc\u3092\u51fa\u529b"
     ]
    },
    {
     "cell_type": "code",
     "collapsed": false,
     "input": [
      "a = 2\n",
      "x = 4\n",
      "y = func(a, x)\n",
      "print(y)"
     ],
     "language": "python",
     "metadata": {},
     "outputs": [
      {
       "output_type": "stream",
       "stream": "stdout",
       "text": [
        "8\n"
       ]
      }
     ],
     "prompt_number": 10
    },
    {
     "cell_type": "markdown",
     "metadata": {},
     "source": [
      "### \u884c\u5217\u3092\u5165\u529b\u3057\u3066\uff0c\u884c\u5217\u3092\u51fa\u529b"
     ]
    },
    {
     "cell_type": "code",
     "collapsed": false,
     "input": [
      "a = 3\n",
      "x = np.array([[1,2,3], [4,5,6]])\n",
      "y = func(a, x)\n",
      "print(y)"
     ],
     "language": "python",
     "metadata": {},
     "outputs": [
      {
       "output_type": "stream",
       "stream": "stdout",
       "text": [
        "[[ 3  6  9]\n",
        " [12 15 18]]\n"
       ]
      }
     ],
     "prompt_number": 11
    },
    {
     "cell_type": "markdown",
     "metadata": {},
     "source": [
      "### \u30d9\u30af\u30c8\u30eb\u3092\u5165\u529b\u3057\u3066\uff0c\u30d9\u30af\u30c8\u30eb\u3092\u51fa\u529b\uff0e"
     ]
    },
    {
     "cell_type": "code",
     "collapsed": false,
     "input": [
      "a = 3\n",
      "x = np.array([1,2,3])\n",
      "y = func(a, x)\n",
      "print(y)"
     ],
     "language": "python",
     "metadata": {},
     "outputs": [
      {
       "output_type": "stream",
       "stream": "stdout",
       "text": [
        "[3 6 9]\n"
       ]
      }
     ],
     "prompt_number": 4
    },
    {
     "cell_type": "markdown",
     "metadata": {},
     "source": [
      "### numpy\u3067\u30d9\u30af\u30c8\u30eb\u3092\u4f5c\u3089\u306a\u3044\u3068\u3046\u307e\u304f\u3044\u304b\u306a\u3044\uff0e"
     ]
    },
    {
     "cell_type": "code",
     "collapsed": false,
     "input": [
      "a = 3\n",
      "x = [1,2,3]\n",
      "y = func(a, x)\n",
      "print(y)"
     ],
     "language": "python",
     "metadata": {},
     "outputs": [
      {
       "output_type": "stream",
       "stream": "stdout",
       "text": [
        "[1, 2, 3, 1, 2, 3, 1, 2, 3]\n"
       ]
      }
     ],
     "prompt_number": 5
    },
    {
     "cell_type": "code",
     "collapsed": false,
     "input": [],
     "language": "python",
     "metadata": {},
     "outputs": []
    }
   ],
   "metadata": {}
  }
 ]
}
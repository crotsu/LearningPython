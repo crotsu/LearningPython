{
 "metadata": {
  "name": "",
  "signature": "sha256:d0737e760af91a0e71770f8eba03b7343b81ba8cc8322e490a774dbdce736104"
 },
 "nbformat": 3,
 "nbformat_minor": 0,
 "worksheets": [
  {
   "cells": [
    {
     "cell_type": "markdown",
     "metadata": {},
     "source": [
      "# gnuplot\u306e\u69d8\u306b\uff0c\u3042\u308b\u95a2\u6570\u3092\u753b\u9762\u51fa\u529b\u3059\u308b\uff0e"
     ]
    },
    {
     "cell_type": "code",
     "collapsed": false,
     "input": [
      "import numpy as np"
     ],
     "language": "python",
     "metadata": {},
     "outputs": [],
     "prompt_number": 20
    },
    {
     "cell_type": "code",
     "collapsed": false,
     "input": [
      "def func1(x):\n",
      "    y = 1/(1+np.exp(-x))\n",
      "    return y"
     ],
     "language": "python",
     "metadata": {},
     "outputs": [],
     "prompt_number": 21
    },
    {
     "cell_type": "code",
     "collapsed": false,
     "input": [
      "def func2(x):\n",
      "    y = x**2\n",
      "    return y"
     ],
     "language": "python",
     "metadata": {},
     "outputs": [],
     "prompt_number": 22
    },
    {
     "cell_type": "code",
     "collapsed": false,
     "input": [
      "def func3(x):\n",
      "    y = np.sin(x)\n",
      "    return y"
     ],
     "language": "python",
     "metadata": {},
     "outputs": [],
     "prompt_number": 23
    },
    {
     "cell_type": "code",
     "collapsed": false,
     "input": [
      "import matplotlib.pyplot as plt\n",
      "\n",
      "# \u5b9a\u7fa9\u57df\u3092\u8a2d\u5b9a\n",
      "xmin = -10.0\n",
      "xmax = 10.0\n",
      "num = 100 # xmin\u304b\u3089xmax\u307e\u3067\u3092num\u500b\u3067\u533a\u5207\u308b\n",
      "x = np.linspace(xmin, xmax, num)\n",
      "\n",
      "# \u95a2\u6570\u304b\u3089\u5024\u57df\u3092\u53d6\u5f97\n",
      "#y = func1(x)\n",
      "#y = func2(x)\n",
      "y = func3(x)\n",
      "\n",
      "# \u70b9\u3069\u3046\u3057\u3092\u76f4\u7dda\u3067\u3064\u306a\u3050\n",
      "plt.plot(x, y)\n",
      "\n",
      "# \u9069\u5207\u306a\u8868\u793a\u7bc4\u56f2\u3092\u6307\u5b9a\n",
      "plt.xlim(xmin, xmax)\n",
      "\n",
      "# \u30b0\u30ea\u30c3\u30c9\u8ffd\u52a0\n",
      "plt.grid(True)\n",
      "\n",
      "# \u8868\u793a\n",
      "plt.show()"
     ],
     "language": "python",
     "metadata": {},
     "outputs": [
      {
       "metadata": {},
       "output_type": "display_data",
       "png": "[encoded data removed]",
       "text": [
        "<matplotlib.figure.Figure at 0x1078a4e48>"
       ]
      }
     ],
     "prompt_number": 24
    },
    {
     "cell_type": "code",
     "collapsed": false,
     "input": [],
     "language": "python",
     "metadata": {},
     "outputs": []
    }
   ],
   "metadata": {}
  }
 ]
}
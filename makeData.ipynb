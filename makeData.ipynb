{
 "cells": [
  {
   "cell_type": "code",
   "execution_count": null,
   "metadata": {
    "collapsed": true
   },
   "outputs": [],
   "source": [
    "# シグモイド関数のデータを作成する"
   ]
  },
  {
   "cell_type": "code",
   "execution_count": 13,
   "metadata": {
    "collapsed": true
   },
   "outputs": [],
   "source": [
    "# 関数を作成\n",
    "import numpy as np\n",
    "\n",
    "def sigmoid(x):\n",
    "    return 1/(1+np.exp(-x)) # math.exp(x)だとスカラーしか受け付けない．np.exp(x)としてリスト全体を受けて，リストを返すのがコツ．"
   ]
  },
  {
   "cell_type": "code",
   "execution_count": 15,
   "metadata": {
    "collapsed": false
   },
   "outputs": [],
   "source": [
    "# 関数をグラフ表示\n",
    "import matplotlib.pyplot as plt\n",
    "\n",
    "# 定義域を設定\n",
    "xmin = -5.0\n",
    "xmax = 5.0\n",
    "num = 100 # xminからxmaxまでをnum個で区切る\n",
    "x = np.linspace(xmin, xmax, num)\n",
    "\n",
    "# 関数から値域を取得\n",
    "y = sigmoid(x)\n",
    "\n",
    "# 点どうしを直線でつなぐ\n",
    "plt.plot(x, y)\n",
    "\n",
    "# 適切な表示範囲を指定\n",
    "plt.xlim(xmin, xmax)\n",
    "\n",
    "# グリッド追加\n",
    "plt.grid(True)\n",
    "\n",
    "# 表示\n",
    "plt.show()"
   ]
  },
  {
   "cell_type": "code",
   "execution_count": 16,
   "metadata": {
    "collapsed": true
   },
   "outputs": [],
   "source": [
    "# データをファイル出力\n",
    "\n",
    "import pandas as pd\n",
    "\n",
    "df = pd.DataFrame({\"x\":x,\"y\":y})\n",
    "df.to_csv(\"data.csv\")\n",
    "df.to_csv(\"data.csv\", header=None, index=False)\n",
    "\n",
    "x = np.round(x, 3)\n",
    "y = np.round(y, 3)\n",
    "df = pd.DataFrame({\"x\":x,\"y\":y})\n",
    "df.to_csv(\"data.csv\", header=None, index=False)"
   ]
  },
  {
   "cell_type": "code",
   "execution_count": 36,
   "metadata": {
    "collapsed": false
   },
   "outputs": [
    {
     "name": "stderr",
     "output_type": "stream",
     "text": [
      "/usr/local/opt/pyenv/versions/anaconda3-2.4.0/lib/python3.5/site-packages/matplotlib/collections.py:590: FutureWarning: elementwise comparison failed; returning scalar instead, but in the future will perform elementwise comparison\n",
      "  if self._edgecolors == str('face'):\n"
     ]
    }
   ],
   "source": [
    "# データファイルにノイズを加える．\n",
    "\n",
    "def sigmoid(x):\n",
    "    return 1/(1+np.exp(-x)) + np.random.normal(0, 0.05, len(x))\n",
    "\n",
    "x = np.linspace(xmin, xmax, num)\n",
    "x += np.random.normal(0, 0.5, len(x))\n",
    "y = sigmoid(x)\n",
    "\n",
    "plt.scatter(x, y)\n",
    "plt.xlim(xmin, xmax)\n",
    "plt.grid(True)\n",
    "plt.show()\n",
    "\n",
    "df = pd.DataFrame({\"x\":x,\"y\":y})\n",
    "df.to_csv(\"data.csv\", header=None, index=False)"
   ]
  },
  {
   "cell_type": "code",
   "execution_count": null,
   "metadata": {
    "collapsed": true
   },
   "outputs": [],
   "source": []
  }
 ],
 "metadata": {
  "kernelspec": {
   "display_name": "Python 3",
   "language": "python",
   "name": "python3"
  },
  "language_info": {
   "codemirror_mode": {
    "name": "ipython",
    "version": 3
   },
   "file_extension": ".py",
   "mimetype": "text/x-python",
   "name": "python",
   "nbconvert_exporter": "python",
   "pygments_lexer": "ipython3",
   "version": "3.5.0"
  }
 },
 "nbformat": 4,
 "nbformat_minor": 0
}
